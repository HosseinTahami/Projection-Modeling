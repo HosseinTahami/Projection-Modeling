{
 "cells": [
  {
   "cell_type": "markdown",
   "metadata": {},
   "source": [
    "# Modeling Projection"
   ]
  },
  {
   "cell_type": "code",
   "execution_count": 19,
   "metadata": {},
   "outputs": [],
   "source": [
    "import numpy as np"
   ]
  },
  {
   "cell_type": "code",
   "execution_count": 20,
   "metadata": {},
   "outputs": [],
   "source": [
    "def projection(point: tuple , camera_cordinate: tuple , alpha, beta, f, offset, theta, skew) -> tuple :\n",
    "\n",
    "\n",
    "    \"\"\"\n",
    "    point: cordinate of point in 3D space (x, y, z)\n",
    "\n",
    "    cameara_cordinate: cordinate of camera in 3D space (x, y, z)\n",
    "\n",
    "    alpha: horizontal longitude pixel density\n",
    "\n",
    "    beta: vertical longitude pixel density\n",
    "    \n",
    "    f:\n",
    "\n",
    "    offset: cordinate of the center (x, y)\n",
    "\n",
    "    skew: \n",
    "\n",
    "    \n",
    "    \"\"\"\n",
    "\n",
    "    K = np.array([\n",
    "        [alpha * f, skew, offset[0]],\n",
    "        [0, beta * f, offset[1]],\n",
    "        [0, 0, 1]\n",
    "    ])\n",
    "\n",
    "    # print(\"K:\\n\",K, \"\\n\")\n",
    "    # print(\"K shape: \\n\", K.shape)\n",
    "    # print(\"\\n\", \"=\"*10, \"\\n\")\n",
    "\n",
    "    R = np.array([\n",
    "        [np.cos(theta), 0, np.sin(theta), 0],\n",
    "        [0, 1, 0, 0],\n",
    "        [-np.sin(theta), 0, np.cos(theta), 0],\n",
    "        [0, 0, 0, 1]\n",
    "    ])\n",
    "\n",
    "    # print(\"R: \\n\", R, \"\\n\")\n",
    "    # print(\"R Shape: \\n\", R.shape)\n",
    "    # print(\"\\n\", \"=\"*10, \"\\n\")\n",
    "    \n",
    "\n",
    "\n",
    "    T = np.array([\n",
    "        [1, 0, 0, -camera_cordinate[0]],\n",
    "        [0, 1, 0, -camera_cordinate[1]],\n",
    "        [0, 0, 1, -camera_cordinate[2]],\n",
    "        [0, 0, 0, 1]\n",
    "\n",
    "    ])\n",
    "\n",
    "    point = np.array([\n",
    "        [point[0]],\n",
    "        [point[1]],\n",
    "        [point[2]],\n",
    "        [1]\n",
    "    ])\n",
    "\n",
    "    # print(\"Point: \\n\", point, \"\\n\")\n",
    "    # print(\"Point Shape: \\n\", point.shape)\n",
    "    # print(\"\\n\", \"=\"*10, \"\\n\")\n",
    "\n",
    "\n",
    "    point_T = np.matmul(T, point)\n",
    "\n",
    "    # print(\"Point_T: \\n\", point_T, \"\\n\")\n",
    "    # print(\"Point_T Shape: \\n\", point_T.shape)\n",
    "    # print(\"\\n\", \"=\"*10, \"\\n\")\n",
    "\n",
    "    point_TR = np.matmul(R, point_T)\n",
    "\n",
    "    # print(\"Point_TR: \\n\", point_TR, \"\\n\")\n",
    "    # print(\"Point_TR Shape: \\n\", point_TR.shape)\n",
    "    # print(\"\\n\", \"=\"*10, \"\\n\")\n",
    "\n",
    "    point_TR = np.array([\n",
    "        [point_TR[0][0]],\n",
    "        [point_TR[1][0]],\n",
    "        [point_TR[2][0]]\n",
    "    ])\n",
    "\n",
    "    # print(\"Point_TR: \\n\", point_TR, \"\\n\")\n",
    "    # print(\"Point_TR Shape: \\n\", point_TR.shape)\n",
    "    # print(\"\\n\", \"=\"*10, \"\\n\")\n",
    "\n",
    "    point_TRK = np.matmul(K, point_TR)\n",
    "\n",
    "    # print(\"Point_TRK: \\n\", point_TRK, \"\\n\")\n",
    "    # print(\"Point_TR Shape: \\n\", point_TRK.shape)\n",
    "    # print(\"\\n\", \"=\"*10, \"\\n\")\n",
    "\n",
    "    projected_point = (point_TRK[0][0]/point_TRK[2][0], point_TRK[1][0]/point_TRK[2][0])\n",
    "\n",
    "    return projected_point"
   ]
  },
  {
   "cell_type": "code",
   "execution_count": 21,
   "metadata": {},
   "outputs": [
    {
     "data": {
      "text/plain": [
       "(560.0, 380.0)"
      ]
     },
     "execution_count": 21,
     "metadata": {},
     "output_type": "execute_result"
    }
   ],
   "source": [
    "projection(\n",
    "    camera_cordinate=(0, 0, 0),\n",
    "    point=(30, 40, 50),\n",
    "    alpha=25,\n",
    "    beta=25,\n",
    "    skew=0,\n",
    "    offset=(500, 300),\n",
    "    theta=0,\n",
    "    f=4\n",
    ")"
   ]
  }
 ],
 "metadata": {
  "kernelspec": {
   "display_name": "Computer-Vision",
   "language": "python",
   "name": "python3"
  },
  "language_info": {
   "codemirror_mode": {
    "name": "ipython",
    "version": 3
   },
   "file_extension": ".py",
   "mimetype": "text/x-python",
   "name": "python",
   "nbconvert_exporter": "python",
   "pygments_lexer": "ipython3",
   "version": "3.10.9"
  }
 },
 "nbformat": 4,
 "nbformat_minor": 2
}
